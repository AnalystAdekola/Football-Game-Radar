{
 "cells": [
  {
   "cell_type": "markdown",
   "id": "1d109c9a",
   "metadata": {},
   "source": [
    "# Football Live Game Radar"
   ]
  },
  {
   "cell_type": "code",
   "execution_count": 2,
   "id": "e4170fec",
   "metadata": {},
   "outputs": [],
   "source": [
    "import matplotlib.pyplot as plt\n",
    "from mplsoccer import Pitch as pt"
   ]
  },
  {
   "cell_type": "code",
   "execution_count": 108,
   "id": "368679c5",
   "metadata": {},
   "outputs": [
    {
     "data": {
      "text/plain": [
       "<Figure size 2160x1080 with 0 Axes>"
      ]
     },
     "metadata": {},
     "output_type": "display_data"
    },
    {
     "data": {
      "image/png": "[encoded data removed]",
      "text/plain": [
       "<Figure size 432x288 with 1 Axes>"
      ]
     },
     "metadata": {},
     "output_type": "display_data"
    }
   ],
   "source": [
    "# Define player positions (x, y coordinates)\n",
    "ManCity_player1 = (80, 30)\n",
    "ManCity_player2 = (70, 40) \n",
    "ManCity_player3 = (75, 50)\n",
    "ManCity_player4= (80, 60) \n",
    "ManCity_player5 = (85, 15)\n",
    "ManCity_player6= (85, 85) \n",
    "ManCity_player7 = (85, 50)\n",
    "ManCity_player8 = (70, 70)\n",
    "ManCity_player9 = (80, 74) \n",
    "ManCity_player10 = (75, 15)\n",
    "ManCity_player11 = (40, 50)\n",
    "\n",
    "WestHam_player1 = (90, 50)\n",
    "WestHam_player2 = (85, 40) \n",
    "WestHam_player3 = (95, 35)\n",
    "WestHam_player4= (95, 60) \n",
    "WestHam_player5 = (90, 57)\n",
    "WestHam_player6= (90, 66) \n",
    "WestHam_player7 = (95, 50)\n",
    "WestHam_player8 = (88, 55)\n",
    "WestHam_player9 = (90, 40) \n",
    "WestHam_player10 = (90, 45)\n",
    "WestHam_player11 = (100, 50)\n",
    "\n",
    "Ball = (77, 50)\n",
    "Ref = (73,30)\n",
    "Ref2 = (87,103)\n",
    "Ref3 = (50,-3)\n",
    "# Create the pitch\n",
    "pitch = pt(pitch_type='wyscout', line_color='black', pitch_color='forestgreen')\n",
    "\n",
    "# Draw the pitch\n",
    "plt.figure(figsize=(30, 15))\n",
    "pitch.draw()\n",
    "\n",
    "# Add player markers with different colors and sizes\n",
    "plt.scatter(ManCity_player1[0], ManCity_player1[1], marker='s', color='blue', s=100, zorder=2)\n",
    "plt.scatter(ManCity_player2[0], ManCity_player2[1], marker='s', color='blue', s=100, zorder=2)\n",
    "plt.scatter(ManCity_player3[0], ManCity_player3[1], marker='s', color='blue', s=100, zorder=2)\n",
    "plt.scatter(ManCity_player4[0], ManCity_player4[1], marker='s', color='blue', s=100, zorder=2)\n",
    "plt.scatter(ManCity_player5[0], ManCity_player5[1], marker='s', color='blue', s=100, zorder=2)\n",
    "plt.scatter(ManCity_player6[0], ManCity_player6[1], marker='s', color='blue', s=100, zorder=2)\n",
    "plt.scatter(ManCity_player7[0], ManCity_player7[1], marker='s', color='blue', s=100, zorder=2)\n",
    "plt.scatter(ManCity_player8[0], ManCity_player8[1], marker='s', color='blue', s=100, zorder=2)\n",
    "plt.scatter(ManCity_player9[0], ManCity_player9[1], marker='s', color='blue', s=100, zorder=2)\n",
    "plt.scatter(ManCity_player10[0], ManCity_player10[1], marker='s', color='blue', s=100, zorder=2)\n",
    "plt.scatter(ManCity_player11[0], ManCity_player11[1], marker='s', color='blue', s=100, zorder=2)\n",
    "\n",
    "plt.scatter(WestHam_player1[0], WestHam_player1[1], marker='o', color='brown', s=100, zorder=2)\n",
    "plt.scatter(WestHam_player2[0], WestHam_player2[1], marker='o', color='brown', s=100, zorder=2)\n",
    "plt.scatter(WestHam_player3[0], WestHam_player3[1], marker='o', color='brown', s=100, zorder=2)\n",
    "plt.scatter(WestHam_player4[0], WestHam_player4[1], marker='o', color='brown', s=100, zorder=2)\n",
    "plt.scatter(WestHam_player5[0], WestHam_player5[1], marker='o', color='brown', s=100, zorder=2)\n",
    "plt.scatter(WestHam_player6[0], WestHam_player6[1], marker='o', color='brown', s=100, zorder=2)\n",
    "plt.scatter(WestHam_player7[0], WestHam_player7[1], marker='o', color='brown', s=100, zorder=2)\n",
    "plt.scatter(WestHam_player8[0], WestHam_player8[1], marker='o', color='brown', s=100, zorder=2)\n",
    "plt.scatter(WestHam_player9[0], WestHam_player9[1], marker='o', color='brown', s=100, zorder=2)\n",
    "plt.scatter(WestHam_player10[0], WestHam_player10[1], marker='o', color='brown', s=100, zorder=2)\n",
    "plt.scatter(WestHam_player11[0], WestHam_player11[1], marker='o', color='brown', s=100, zorder=2)\n",
    "\n",
    "plt.scatter(Ball[0], Ball[1], marker='o', color='white', s=30, zorder=2)\n",
    "plt.scatter(Ref[0], Ref[1], marker='s', color='yellow', s=100, zorder=2)\n",
    "plt.scatter(Ref2[0], Ref2[1], marker='s', color='yellow', s=100, zorder=2)\n",
    "plt.scatter(Ref3[0], Ref3[1], marker='s', color='yellow', s=100, zorder=2)\n",
    "plt.title(\"EPL Week 38: MNC 3 vs 0 WHU 52'\")\n",
    "plt.show()"
   ]
  },
  {
   "cell_type": "code",
   "execution_count": null,
   "id": "76de8043",
   "metadata": {},
   "outputs": [],
   "source": []
  }
 ],
 "metadata": {
  "kernelspec": {
   "display_name": "Python 3",
   "language": "python",
   "name": "python3"
  },
  "language_info": {
   "codemirror_mode": {
    "name": "ipython",
    "version": 3
   },
   "file_extension": ".py",
   "mimetype": "text/x-python",
   "name": "python",
   "nbconvert_exporter": "python",
   "pygments_lexer": "ipython3",
   "version": "3.8.8"
  }
 },
 "nbformat": 4,
 "nbformat_minor": 5
}
